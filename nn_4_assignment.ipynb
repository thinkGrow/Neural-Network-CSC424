{
  "nbformat": 4,
  "nbformat_minor": 0,
  "metadata": {
    "colab": {
      "name": "nn_4_assignment.ipynb",
      "provenance": [],
      "collapsed_sections": [],
      "authorship_tag": "ABX9TyOPvRMGI5dgV2tukXnBimoJ",
      "include_colab_link": true
    },
    "kernelspec": {
      "name": "python3",
      "display_name": "Python 3"
    },
    "language_info": {
      "name": "python"
    }
  },
  "cells": [
    {
      "cell_type": "markdown",
      "metadata": {
        "id": "view-in-github",
        "colab_type": "text"
      },
      "source": [
        "<a href=\"https://colab.research.google.com/github/thinkGrow/Neural-Network-CSC424/blob/main/nn_4_assignment.ipynb\" target=\"_parent\"><img src=\"https://colab.research.google.com/assets/colab-badge.svg\" alt=\"Open In Colab\"/></a>"
      ]
    },
    {
      "cell_type": "code",
      "execution_count": null,
      "metadata": {
        "id": "XpzCglwPbGZE"
      },
      "outputs": [],
      "source": [
        "import numpy as np\n",
        "import matplotlib.pyplot as plt     \n",
        "import torch\n",
        "import torchvision\n",
        "import torchvision.transforms as transforms\n",
        "import numpy as np\n",
        "import math\n",
        "from sklearn.metrics import confusion_matrix\n",
        "from sklearn.metrics import accuracy_score\n",
        "import seaborn as sns"
      ]
    },
    {
      "cell_type": "code",
      "source": [
        "trainset = torchvision.datasets.CIFAR10(root='./data', train=True, download=True)\n",
        "testset = torchvision.datasets.CIFAR10(root='./data', train=False, download=True)"
      ],
      "metadata": {
        "colab": {
          "base_uri": "https://localhost:8080/"
        },
        "id": "T-BrVdsybMg7",
        "outputId": "a2ab792d-a43b-4d9e-cd2b-b4d02a8ba9e4"
      },
      "execution_count": null,
      "outputs": [
        {
          "output_type": "stream",
          "name": "stdout",
          "text": [
            "Files already downloaded and verified\n",
            "Files already downloaded and verified\n"
          ]
        }
      ]
    },
    {
      "cell_type": "code",
      "source": [
        "x_train = trainset.data\n",
        "x_test = testset.data\n",
        "y_train = np.array(trainset.targets)\n",
        "y_test = np.array(testset.targets)\n",
        "\n",
        "dimension_two = x_train.shape[1]*x_train.shape[2]*x_train.shape[3] #3072 from 50,000x32x32x3\n",
        "\n",
        "x_train = x_train.reshape(x_train.shape[0], dimension_two) #50,000 x 3072\n",
        "x_test = x_test.reshape(x_test.shape[0], dimension_two) #50,000 x 3072\n",
        "\n",
        "x_train = x_train/255\n",
        "x_test = x_test/255\n",
        "\n",
        "no_of_train_sample = x_train.shape[0]\n",
        "\n",
        "print(y_train.shape)"
      ],
      "metadata": {
        "id": "ON3JHqAteapa",
        "colab": {
          "base_uri": "https://localhost:8080/"
        },
        "outputId": "4f01421b-5fd2-4cea-dbf9-99ae91c4f6e2"
      },
      "execution_count": null,
      "outputs": [
        {
          "output_type": "stream",
          "name": "stdout",
          "text": [
            "(50000,)\n"
          ]
        }
      ]
    },
    {
      "cell_type": "code",
      "source": [
        "def loss(y_train, z1, w):\n",
        "    #score = output of the last layer\n",
        "    norm = torch.sum(torch.square(w))\n",
        "    # y_train = y_train.reshape(50000, 10)    \n",
        "    zeros = torch.zeros(50000, 10)\n",
        "    mx = torch.maximum(zeros, z1 - z1.gather(-1, y_train.long()) + 1) #Formula: Loss = max(0,predicted-original+1)  \n",
        "    \n",
        "    return (1/y_train.shape[0]) * (torch.sum(mx)) + norm\n",
        "\n",
        "\n",
        "def hinge_grad_input(y_pred, y_train): #ao, y_train\n",
        "    grad_input = np.where(y_pred * y_train < 1, -y_train / y_train.size, 0)\n",
        "    #the gradient equals -y/N for all the cases where y*y < 1, otherwise 0.\n",
        "    return grad_input\n",
        "\n",
        "\n",
        "def xavier_initializer(fan_in, fan_out) :\n",
        "    limit = math.sqrt(6/(fan_in + fan_out))\n",
        "\n",
        "    fan_in_o = 4000\n",
        "    fan_out_o = 1\n",
        "    limit_o = math.sqrt(6/(fan_in_o + fan_out_o))\n",
        "\n",
        "    return np.random.uniform(-limit, limit, size=(fan_in, fan_out))\n",
        "\n",
        "def ohe(to_encode):\n",
        "    ohe = np.zeros((to_encode.shape[0],10))\n",
        "    for i in range(to_encode.shape[0]):\n",
        "        for j in range(10):\n",
        "            if to_encode[i] == j:\n",
        "                ohe[i][j] = 1 \n",
        "    return ohe\n",
        "\n",
        "def conclusion(y_test_ohe, y_predict_ohe):\n",
        "\n",
        "    # print(\"Confusion Matrix: \\n\", confusion_matrix(y_test, y_predict), \"\\n\")\n",
        "    print(\"Accuracy: \", accuracy_score(y_test_ohe, y_predict_ohe), \"\\n\")\n",
        "    classes = ['plane', 'car', 'bird', 'cat', 'deer', 'dog', 'frog', 'horse', 'ship', 'truck']   \n",
        "\n",
        "    ax= plt.subplot()\n",
        "\n",
        "    cm = confusion_matrix(np.asarray(y_test_ohe).argmax(axis=1), np.asarray(y_predict_ohe).argmax(axis=1))\n",
        "    sns.heatmap(cm, annot=True, fmt='g', ax=ax);  #annot=True to annotate cells, ftm='g' to disable scientific notation\n",
        "\n",
        "    # labels, title and ticks\n",
        "    ax.set_xlabel('Predicted labels');ax.set_ylabel('True labels'); \n",
        "    ax.set_title('Confusion Matrix'); \n",
        "    ax.xaxis.set_ticklabels(classes); ax.yaxis.set_ticklabels(classes);\n",
        "    # print(\"F-score:\\n\", f1_score(y_test, y_predict, average = None), \"\\n\")"
      ],
      "metadata": {
        "id": "I3q6dOHNbOEC"
      },
      "execution_count": null,
      "outputs": []
    },
    {
      "cell_type": "code",
      "source": [
        "y_train = ohe(y_train)\n",
        "y_test = ohe(y_test)\n",
        "print(x_train.shape)\n",
        "print(y_train.shape)"
      ],
      "metadata": {
        "id": "qYc31PPCEWkb",
        "colab": {
          "base_uri": "https://localhost:8080/"
        },
        "outputId": "73813527-ce25-4672-c553-46898cc4e55d"
      },
      "execution_count": null,
      "outputs": [
        {
          "output_type": "stream",
          "name": "stdout",
          "text": [
            "(50000, 3072)\n",
            "(50000, 10)\n"
          ]
        }
      ]
    },
    {
      "cell_type": "code",
      "source": [
        "class NeuralNetwork:\n",
        "    def __init__(self):\n",
        "        self.w1 = xavier_initializer(3072,10)\n",
        "        self.b1 = np.random.randn(10)\n",
        "        self.lr = 0.001\n",
        "        self.z1 = np.empty((3072,10))\n",
        "        self.loss = 0\n",
        "        self.loss_epoch_temp = 0.0\n",
        "\n",
        "        self.batch_size = 1000\n",
        "    \n",
        "    def feedforward(self, x_batch):\n",
        "        # Phase 1\n",
        "        self.z1 = np.dot(x_batch, self.w1) + self.b1\n",
        "        return self.z1\n",
        "\n",
        "\n",
        "    def backprop(self, x_train, y_train):\n",
        "        ## Back Propagation\n",
        "        \n",
        "        #Phase 1\n",
        "        dL_dz1 = hinge_grad_input(self.z1,y_train)\n",
        "        dL_dw1 = np.dot(x_train.T, dL_dz1)\n",
        "\n",
        "        dL_db1 = np.sum(dL_dz1, axis=0, keepdims=True)\n",
        "\n",
        "        # Update Weights \n",
        "\n",
        "        self.w1 -= self.lr * dL_dw1\n",
        "        self.b1 -= self.lr * dL_db1.sum(axis=0)\n",
        "\n",
        "        self.w1 = torch.from_numpy(self.w1).float()\n",
        "        self.z1 = torch.from_numpy(self.z1).float()\n",
        "        y_train = torch.from_numpy(y_train).float()\n",
        "        self.loss = loss(y_train, self.z1, self.w1)\n",
        "        self.loss = self.loss.numpy()\n",
        "        self.w1 = self.w1.numpy()\n",
        "        self.z1 = self.z1.numpy()\n",
        "        # print(self.w1)\n",
        "        # self.loss = self.loss.item()\n",
        "        # print(self.loss.dtype)\n",
        "\n",
        "        # self.loss_epoch_temp += loss\n",
        "\n",
        "\n",
        "\n",
        "    def train(self, x_train, y_train) :\n",
        "        loss = 0.0\n",
        "        for epoch in range(10):\n",
        "\n",
        "\n",
        "            self.feedforward(x_train)\n",
        "            self.backprop(x_train,y_train)\n",
        "            print('Loss of batch ', epoch+1, \": \",  self.loss)\n",
        "\n",
        "            # print(f'epoch no. {epoch+1} : {self.loss_epoch_temp}') \n",
        "            self.loss_epoch_temp = 0"
      ],
      "metadata": {
        "id": "b9kxokvQbr9D"
      },
      "execution_count": null,
      "outputs": []
    },
    {
      "cell_type": "code",
      "source": [
        ""
      ],
      "metadata": {
        "id": "0BUfgf7qVVE9"
      },
      "execution_count": null,
      "outputs": []
    },
    {
      "cell_type": "code",
      "source": [
        "nn = NeuralNetwork()\n",
        "nn.train(x_train,y_train)\n",
        "y_predict = nn.feedforward(x_test)"
      ],
      "metadata": {
        "colab": {
          "base_uri": "https://localhost:8080/"
        },
        "id": "26VuEZk9Jnbe",
        "outputId": "e9982875-f0bf-426c-adbb-6157d283b9b8"
      },
      "execution_count": null,
      "outputs": [
        {
          "output_type": "stream",
          "name": "stdout",
          "text": [
            "Loss of batch  1 :  24.612846\n",
            "Loss of batch  2 :  24.612518\n",
            "Loss of batch  3 :  24.612211\n",
            "Loss of batch  4 :  24.611908\n",
            "Loss of batch  5 :  24.611614\n",
            "Loss of batch  6 :  24.611332\n",
            "Loss of batch  7 :  24.611065\n",
            "Loss of batch  8 :  24.610811\n",
            "Loss of batch  9 :  24.610567\n",
            "Loss of batch  10 :  24.610342\n"
          ]
        }
      ]
    },
    {
      "cell_type": "code",
      "source": [
        "index = np.argmax(y_predict, axis=1)\n",
        "y_predict_ohe = np.zeros((10000,10))\n",
        "for i in range(10000):    \n",
        "    for j in range(10):\n",
        "        if j == index[i]:\n",
        "              y_predict_ohe[i][index[i]]= 1\n",
        "        else: y_predict_ohe[i][j]=0 "
      ],
      "metadata": {
        "id": "ybrA14DaVe3o"
      },
      "execution_count": null,
      "outputs": []
    },
    {
      "cell_type": "code",
      "source": [
        "conclusion(y_test, y_predict_ohe)"
      ],
      "metadata": {
        "colab": {
          "base_uri": "https://localhost:8080/",
          "height": 331
        },
        "id": "BkFsg4zKUBju",
        "outputId": "1c14bf79-e5e4-47a1-ecf1-6d4c6b0d7cfa"
      },
      "execution_count": null,
      "outputs": [
        {
          "output_type": "stream",
          "name": "stdout",
          "text": [
            "Accuracy:  0.1104 \n",
            "\n"
          ]
        },
        {
          "output_type": "display_data",
          "data": {
            "text/plain": [
              "<Figure size 432x288 with 2 Axes>"
            ],
            "image/png": "[encoded data removed]"
          },
          "metadata": {
            "needs_background": "light"
          }
        }
      ]
    },
    {
      "cell_type": "code",
      "source": [
        ""
      ],
      "metadata": {
        "id": "tQ5ACbOMUhN-"
      },
      "execution_count": null,
      "outputs": []
    }
  ]
}
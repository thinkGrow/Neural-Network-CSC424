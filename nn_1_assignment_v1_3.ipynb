{
  "cells": [
    {
      "cell_type": "markdown",
      "metadata": {
        "id": "view-in-github",
        "colab_type": "text"
      },
      "source": [
        "<a href=\"https://colab.research.google.com/github/thinkGrow/Neural-Network-CSC424/blob/main/nn_1_assignment_v1_3.ipynb\" target=\"_parent\"><img src=\"https://colab.research.google.com/assets/colab-badge.svg\" alt=\"Open In Colab\"/></a>"
      ]
    },
    {
      "cell_type": "code",
      "execution_count": null,
      "metadata": {
        "colab": {
          "base_uri": "https://localhost:8080/"
        },
        "id": "46ykxW-VcCLp",
        "outputId": "b8e9c901-d031-4458-8a28-624ba46c0c04"
      },
      "outputs": [
        {
          "name": "stdout",
          "output_type": "stream",
          "text": [
            "Files already downloaded and verified\n",
            "Files already downloaded and verified\n"
          ]
        }
      ],
      "source": [
        "import torch\n",
        "import torchvision\n",
        "import torchvision.transforms as transforms\n",
        "import numpy as np\n",
        "\n",
        "trainset = torchvision.datasets.CIFAR10(root='./data', train=True, download=True)\n",
        "testset = torchvision.datasets.CIFAR10(root='./data', train=False, download=True)\n",
        "\n",
        "x_train = trainset.data\n",
        "x_test = testset.data\n",
        "y_train = np.array(trainset.targets)\n",
        "y_test = np.array(testset.targets)\n",
        "\n",
        "dimension_two = x_train.shape[1]*x_train.shape[2]*x_train.shape[3] #3072 from 50,000x32x32x3\n",
        "\n",
        "x_train = x_train.reshape(x_train.shape[0], dimension_two) #50,000 x 3072\n",
        "x_test = x_test.reshape(x_test.shape[0], dimension_two) #50,000 x 3072"
      ]
    },
    {
      "cell_type": "code",
      "execution_count": null,
      "metadata": {
        "id": "f9_Mq6wI_ymt"
      },
      "outputs": [],
      "source": [
        "# import numpy as np\n",
        "# A = np.arange(12).reshape(4,3)\n",
        "\n",
        "# x = np.array([5,5,5])\n",
        "\n",
        "# A\n",
        "\n",
        "# A-x\n",
        "\n",
        "# np.abs(A-x)\n",
        "\n",
        "# distances = np.sum(np.abs(A-x), axis=1)\n",
        "# distances\n",
        "\n",
        "# # distance_sort = np.argsort(distances)[:1] \n",
        "# distance_sort = np.argsort(distances)[:3]\n",
        "# distance_sort"
      ]
    },
    {
      "cell_type": "code",
      "execution_count": null,
      "metadata": {
        "id": "xe9dcNIDCeBc"
      },
      "outputs": [],
      "source": [
        "# distances = np.sum(np.abs(x_train - x_test[0,:] ), axis = 1) \n",
        "# distance_sort = np.argsort(distances)[:3] \n",
        "\n",
        "# print(distance_sort)"
      ]
    },
    {
      "cell_type": "code",
      "execution_count": null,
      "metadata": {
        "id": "Cv0erMJLcPQY"
      },
      "outputs": [],
      "source": [
        "class KNearestNeighbor(object): \n",
        "    def __init__(self):\n",
        "        pass\n",
        "    \n",
        "    def train(self,x_train,y_train):         \n",
        "        self.x_train = x_train\n",
        "        self.y_train = y_train\n",
        "        \n",
        "    \n",
        "    def predict(self,x_test,k):        \n",
        "        dimension_one = x_test.shape[0] #50000\n",
        "        y_predict = np.zeros(dimension_one, dtype = self.y_train.dtype) #(50000,)\n",
        "        \n",
        "        for i in range(dimension_one):\n",
        "\n",
        "            distances = np.sum(np.abs(self.x_train - x_test[i,:] ), axis = 1) \n",
        "            minimum_ind = np.argsort(distances)[:k] \n",
        "            \n",
        "            bincount = np.bincount(self.y_train[minimum_ind]) #no of occurences of the minimum value\n",
        "            #if the closest k points have unique labels, give the first one\n",
        "            #if not unique, give modal\n",
        "            y_predict[i] = bincount.argmax()                 \n",
        "\n",
        "        return y_predict\n",
        "                \n",
        "# y_predict = np.zeros(shape=(1, x_test.shape[0]))"
      ]
    },
    {
      "cell_type": "code",
      "execution_count": null,
      "metadata": {
        "id": "wO3MxK2rIK51"
      },
      "outputs": [],
      "source": [
        "from sklearn.metrics import confusion_matrix\n",
        "from sklearn.metrics import accuracy_score\n",
        "from sklearn.metrics import f1_score\n",
        "\n",
        "def conclusion(y_test, y_predict):\n",
        "    print(\"Confusion Matrix: \\n\", confusion_matrix(y_test, y_predict), \"\\n\")\n",
        "    print(\"Accuracy: \", accuracy_score(y_test, y_predict), \"\\n\")\n",
        "    print(\"F-score:\\n\", f1_score(y_test, y_predict, average = None), \"\\n\")"
      ]
    },
    {
      "cell_type": "code",
      "execution_count": null,
      "metadata": {
        "colab": {
          "base_uri": "https://localhost:8080/"
        },
        "id": "NkpSTzF9zYik",
        "outputId": "da1de5d6-2245-4402-ab03-b929b218fec0"
      },
      "outputs": [
        {
          "name": "stdout",
          "output_type": "stream",
          "text": [
            "Confusion Matrix: \n",
            " [[524  24 155  24  31  18  42  12 161   9]\n",
            " [189 126  99  68  81  71  53  30 236  47]\n",
            " [233   2 313  88 140  65  52  20  76  11]\n",
            " [196  17 161 171 106 146  86  28  80   9]\n",
            " [178   6 259  66 246  80  51  16  94   4]\n",
            " [195   7 138 149  82 242  60  37  82   8]\n",
            " [114   3 233 114 154 124 165  10  78   5]\n",
            " [190  16 167  99 160  65  65 133  88  17]\n",
            " [273  45  64  32  36  27  17  16 481   9]\n",
            " [219  89  76  64  60  74  53  42 232  91]] \n",
            "\n",
            "Accuracy:  0.2492 \n",
            "\n",
            "F-score:\n",
            " [0.31652069 0.18876404 0.23489681 0.1824     0.23473282 0.25313808\n",
            " 0.20072993 0.19791667 0.36886503 0.15041322] \n",
            "\n"
          ]
        }
      ],
      "source": [
        "knn = KNearestNeighbor()\n",
        "knn.train(x_train, y_train)\n",
        "y_predict = knn.predict(x_test,1)\n",
        "conclusion(y_test, y_predict)"
      ]
    },
    {
      "cell_type": "code",
      "execution_count": null,
      "metadata": {
        "colab": {
          "background_save": true
        },
        "id": "EyaLDlxHzZBz",
        "outputId": "bcad4929-b89f-455d-d169-e063746b065b"
      },
      "outputs": [
        {
          "name": "stdout",
          "output_type": "stream",
          "text": [
            "Confusion Matrix: \n",
            " [[670  20 118  14  20   4   9   4 140   1]\n",
            " [359 135 108  64  71  36  16  11 187  13]\n",
            " [376   7 362  60  94  34  15   5  45   2]\n",
            " [362  21 205 154  62 101  36   9  50   0]\n",
            " [298  10 321  59 187  39  17   5  64   0]\n",
            " [326  16 201 151  64 148  27  14  51   2]\n",
            " [242  10 316  98 112  71  98   5  48   0]\n",
            " [335  20 210  93 130  41  23  82  60   6]\n",
            " [355  45  45  20  23  22   5  11 470   4]\n",
            " [347 104 104  68  50  54  16  21 203  33]] \n",
            "\n",
            "Accuracy:  0.2339 \n",
            "\n",
            "F-score:\n",
            " [0.2869379  0.1945245  0.24214047 0.17293655 0.20628792 0.19096774\n",
            " 0.15530903 0.14053128 0.405522   0.06220547] \n",
            "\n"
          ]
        }
      ],
      "source": [
        "knn = KNearestNeighbor()\n",
        "knn.train(x_train, y_train)\n",
        "y_predict = knn.predict(x_test,3)\n",
        "conclusion(y_test, y_predict)"
      ]
    },
    {
      "cell_type": "code",
      "execution_count": null,
      "metadata": {
        "colab": {
          "background_save": true
        },
        "id": "halY7S4Rzdpp",
        "outputId": "004f0462-a8bf-4f98-89db-91f3ecc0d1d5"
      },
      "outputs": [
        {
          "name": "stdout",
          "output_type": "stream",
          "text": [
            "Confusion Matrix: \n",
            " [[670  20  95  14  22  10  15   4 149   1]\n",
            " [316 114  87  51  87  39  35  21 223  27]\n",
            " [329   2 393  37  99  46  19  12  62   1]\n",
            " [319  18 175 161  88 118  41  11  68   1]\n",
            " [272   7 304  51 227  49  17   5  68   0]\n",
            " [275   8 207 138  70 176  40  10  69   7]\n",
            " [202   7 295  87 135  92 113   7  62   0]\n",
            " [295  17 194  60 159  67  34  92  73   9]\n",
            " [357  37  36  17  27  16   9  15 483   3]\n",
            " [304  74  87  51  54  61  23  38 257  51]] \n",
            "\n",
            "Accuracy:  0.248 \n",
            "\n",
            "F-score:\n",
            " [0.30882692 0.17484663 0.27358162 0.19316137 0.23069106 0.21027479\n",
            " 0.1679049  0.15144033 0.38424821 0.09272727] \n",
            "\n"
          ]
        }
      ],
      "source": [
        "knn = KNearestNeighbor()\n",
        "knn.train(x_train, y_train)\n",
        "y_predict = knn.predict(x_test,5)\n",
        "conclusion(y_test, y_predict)"
      ]
    }
  ],
  "metadata": {
    "colab": {
      "collapsed_sections": [],
      "name": "nn_1_assignment_v1.3.ipynb",
      "provenance": [],
      "authorship_tag": "ABX9TyPY032mSpxn3rmzATo18axR",
      "include_colab_link": true
    },
    "kernelspec": {
      "display_name": "Python 3",
      "name": "python3"
    },
    "language_info": {
      "name": "python"
    }
  },
  "nbformat": 4,
  "nbformat_minor": 0
}